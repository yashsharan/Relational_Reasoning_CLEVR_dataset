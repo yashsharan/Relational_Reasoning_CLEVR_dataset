{
  "nbformat": 4,
  "nbformat_minor": 0,
  "metadata": {
    "colab": {
      "name": "nnfl_project.ipynb",
      "version": "0.3.2",
      "provenance": [],
      "include_colab_link": true
    },
    "kernelspec": {
      "name": "python3",
      "display_name": "Python 3"
    }
  },
  "cells": [
    {
      "cell_type": "markdown",
      "metadata": {
        "id": "view-in-github",
        "colab_type": "text"
      },
      "source": [
        "<a href=\"https://colab.research.google.com/github/yashsharan/nnfl_project/blob/master/nnfl_project.ipynb\" target=\"_parent\"><img src=\"https://colab.research.google.com/assets/colab-badge.svg\" alt=\"Open In Colab\"/></a>"
      ]
    },
    {
      "metadata": {
        "id": "gY0YxXboTzeF",
        "colab_type": "code",
        "colab": {
          "base_uri": "https://localhost:8080/",
          "height": 401
        },
        "outputId": "1d4e0cbc-c159-4cf1-d87b-9fd30c3894c1"
      },
      "cell_type": "code",
      "source": [
        "import os\n",
        "!apt-get install -y -qq software-properties-common python-software-properties module-init-tools\n",
        "!add-apt-repository -y ppa:alessandro-strada/ppa 2>&1 > /dev/null\n",
        "!apt-get update -qq 2>&1 > /dev/null\n",
        "!apt-get -y install -qq google-drive-ocamlfuse fuse\n",
        "\n",
        "# Generate auth tokens for Colab\n",
        "from google.colab import auth\n",
        "auth.authenticate_user()\n",
        "from google.colab import drive\n",
        "drive.mount('/content/drive')\n",
        "os.chdir('drive/My Drive/')"
      ],
      "execution_count": 3,
      "outputs": [
        {
          "output_type": "stream",
          "text": [
            "E: Package 'python-software-properties' has no installation candidate\n",
            "Selecting previously unselected package libfuse2:amd64.\n",
            "(Reading database ... 22280 files and directories currently installed.)\n",
            "Preparing to unpack .../libfuse2_2.9.7-1ubuntu1_amd64.deb ...\n",
            "Unpacking libfuse2:amd64 (2.9.7-1ubuntu1) ...\n",
            "Selecting previously unselected package fuse.\n",
            "Preparing to unpack .../fuse_2.9.7-1ubuntu1_amd64.deb ...\n",
            "Unpacking fuse (2.9.7-1ubuntu1) ...\n",
            "Selecting previously unselected package google-drive-ocamlfuse.\n",
            "Preparing to unpack .../google-drive-ocamlfuse_0.7.0-0ubuntu1~ubuntu18.04.1_amd64.deb ...\n",
            "Unpacking google-drive-ocamlfuse (0.7.0-0ubuntu1~ubuntu18.04.1) ...\n",
            "Setting up libfuse2:amd64 (2.9.7-1ubuntu1) ...\n",
            "Processing triggers for libc-bin (2.27-3ubuntu1) ...\n",
            "Setting up fuse (2.9.7-1ubuntu1) ...\n",
            "Setting up google-drive-ocamlfuse (0.7.0-0ubuntu1~ubuntu18.04.1) ...\n",
            "Go to this URL in a browser: https://accounts.google.com/o/oauth2/auth?client_id=947318989803-6bn6qk8qdgf4n4g3pfee6491hc0brc4i.apps.googleusercontent.com&redirect_uri=urn%3Aietf%3Awg%3Aoauth%3A2.0%3Aoob&scope=email%20https%3A%2F%2Fwww.googleapis.com%2Fauth%2Fdocs.test%20https%3A%2F%2Fwww.googleapis.com%2Fauth%2Fdrive%20https%3A%2F%2Fwww.googleapis.com%2Fauth%2Fdrive.photos.readonly%20https%3A%2F%2Fwww.googleapis.com%2Fauth%2Fpeopleapi.readonly&response_type=code\n",
            "\n",
            "Enter your authorization code:\n",
            "··········\n",
            "Mounted at /content/drive\n"
          ],
          "name": "stdout"
        }
      ]
    },
    {
      "metadata": {
        "id": "skus2O85UGou",
        "colab_type": "code",
        "colab": {}
      },
      "cell_type": "code",
      "source": [
        "os.chdir('nnfl_project')"
      ],
      "execution_count": 0,
      "outputs": []
    },
    {
      "metadata": {
        "id": "O4XGVHLuU4jT",
        "colab_type": "code",
        "colab": {}
      },
      "cell_type": "code",
      "source": [
        "!unzip Training.zip"
      ],
      "execution_count": 0,
      "outputs": []
    },
    {
      "metadata": {
        "id": "RCshwR9Hps1w",
        "colab_type": "code",
        "colab": {
          "base_uri": "https://localhost:8080/",
          "height": 35
        },
        "outputId": "d43d1129-1034-4a3f-ae48-a5dae62db950"
      },
      "cell_type": "code",
      "source": [
        "!ls"
      ],
      "execution_count": 4,
      "outputs": [
        {
          "output_type": "stream",
          "text": [
            "images\tnnfl_project.ipynb  Quest_Answers.json\tTraining.zip\n"
          ],
          "name": "stdout"
        }
      ]
    },
    {
      "metadata": {
        "id": "Yw5ne4eSU906",
        "colab_type": "code",
        "colab": {}
      },
      "cell_type": "code",
      "source": [
        "import json\n",
        "import time\n",
        "\n",
        "train_data=json.load(open('Quest_Answers.json'))"
      ],
      "execution_count": 0,
      "outputs": []
    },
    {
      "metadata": {
        "id": "jZ7pVymfraPx",
        "colab_type": "code",
        "colab": {
          "base_uri": "https://localhost:8080/",
          "height": 35
        },
        "outputId": "9a7aa719-b1bf-43a3-e0be-e511832220a1"
      },
      "cell_type": "code",
      "source": [
        "len(train_data['quest_answers'])"
      ],
      "execution_count": 10,
      "outputs": [
        {
          "output_type": "execute_result",
          "data": {
            "text/plain": [
              "135020"
            ]
          },
          "metadata": {
            "tags": []
          },
          "execution_count": 10
        }
      ]
    },
    {
      "metadata": {
        "id": "6d473PLAVQyd",
        "colab_type": "code",
        "colab": {}
      },
      "cell_type": "code",
      "source": [
        "train_data['quest_answers'][0:100]"
      ],
      "execution_count": 0,
      "outputs": []
    },
    {
      "metadata": {
        "id": "P1Nb8a_JqA0h",
        "colab_type": "code",
        "colab": {}
      },
      "cell_type": "code",
      "source": [
        "image_title=[]\n",
        "image_ans=[]\n",
        "image_que=[]\n",
        "for i in range(len(train_data['quest_answers'])):\n",
        "  image_title.append(train_data['quest_answers'][i]['Image'])\n",
        "  image_ans.append(train_data['quest_answers'][i]['Answer'])\n",
        "  image_que.append(train_data['quest_answers'][i]['Question'])\n",
        "  \n",
        "  \n"
      ],
      "execution_count": 0,
      "outputs": []
    },
    {
      "metadata": {
        "id": "Lbz5DKs0qnvP",
        "colab_type": "code",
        "colab": {
          "base_uri": "https://localhost:8080/",
          "height": 35
        },
        "outputId": "4f25e465-c7e3-4f51-bd81-dfb71702ea7f"
      },
      "cell_type": "code",
      "source": [
        "image_title[0]\n",
        "image_ans[0]\n",
        "image_que[0]"
      ],
      "execution_count": 16,
      "outputs": [
        {
          "output_type": "execute_result",
          "data": {
            "text/plain": [
              "'There is a metal thing that is in front of the gray thing right of the big blue shiny sphere; how many rubber cubes are in front of it?'"
            ]
          },
          "metadata": {
            "tags": []
          },
          "execution_count": 16
        }
      ]
    },
    {
      "metadata": {
        "id": "rAwQv4jgU7XP",
        "colab_type": "code",
        "colab": {}
      },
      "cell_type": "code",
      "source": [
        "\n",
        "import json\n",
        "import os\n",
        "import pickle\n",
        "import re\n",
        "\n",
        "import torch\n",
        "from tqdm import tqdm\n",
        "classes={\n",
        "    'shape':['Sphere','Cube','Cylinder'],\n",
        "    'size':['Large','Small'],\n",
        "    'color':['cyan','blue','yellow','purple','red','green','gray','brown'],\n",
        "    'material':['rubber','metal']   \n",
        "    \n",
        "}\n",
        "\n",
        "def build_dictionaries(clevr_dir):\n",
        "\n",
        "    def compute_class(answer):\n",
        "        for name,values in classes.items():\n",
        "            if answer in values:\n",
        "                return name\n",
        "        \n",
        "        raise ValueError('Answer {} does not belong to a known class'.format(answer))\n",
        "        \n",
        "        \n",
        "    cached_dictionaries = os.path.join(clevr_dir, 'questions', 'CLEVR_built_dictionaries.pkl')\n",
        "    if os.path.exists(cached_dictionaries):\n",
        "        print('==> using cached dictionaries: {}'.format(cached_dictionaries))\n",
        "        with open(cached_dictionaries, 'rb') as f:\n",
        "            return pickle.load(f)\n",
        "            \n",
        "    quest_to_ix = {}\n",
        "    answ_to_ix = {}\n",
        "    answ_ix_to_class = {}\n",
        "    json_train_filename = os.path.join(clevr_dir, 'questions', 'CLEVR_train_questions.json')\n",
        "    #load all words from all training data\n",
        "    with open(json_train_filename, \"r\") as f:\n",
        "        questions = json.load(f)['questions']\n",
        "        for q in tqdm(questions):\n",
        "            question = tokenize(q['question'])\n",
        "            answer = q['answer']\n",
        "            #pdb.set_trace()\n",
        "            for word in question:\n",
        "                if word not in quest_to_ix:\n",
        "                    quest_to_ix[word] = len(quest_to_ix)+1 #one based indexing; zero is reserved for padding\n",
        "            \n",
        "            a = answer.lower()\n",
        "            if a not in answ_to_ix:\n",
        "                    ix = len(answ_to_ix)+1\n",
        "                    answ_to_ix[a] = ix\n",
        "                    answ_ix_to_class[ix] = compute_class(a)\n",
        "\n",
        "    ret = (quest_to_ix, answ_to_ix, answ_ix_to_class)    \n",
        "    with open(cached_dictionaries, 'wb') as f:\n",
        "        pickle.dump(ret, f)\n",
        "\n",
        "    return ret\n",
        "\n",
        "        \n",
        "#raise ValueError('Answer {} does not belong to a known class'.format(answer))\n",
        "    \n"
      ],
      "execution_count": 0,
      "outputs": []
    },
    {
      "metadata": {
        "id": "XnIa-qjve09M",
        "colab_type": "code",
        "colab": {}
      },
      "cell_type": "code",
      "source": [
        ""
      ],
      "execution_count": 0,
      "outputs": []
    }
  ]
}