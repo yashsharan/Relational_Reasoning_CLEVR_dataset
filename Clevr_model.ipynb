{
  "nbformat": 4,
  "nbformat_minor": 0,
  "metadata": {
    "colab": {
      "name": "Clevr model.ipynb",
      "version": "0.3.2",
      "provenance": [],
      "include_colab_link": true
    },
    "kernelspec": {
      "display_name": "Python 3",
      "language": "python",
      "name": "python3"
    },
    "accelerator": "GPU"
  },
  "cells": [
    {
      "cell_type": "markdown",
      "metadata": {
        "id": "view-in-github",
        "colab_type": "text"
      },
      "source": [
        "<a href=\"https://colab.research.google.com/github/yashsharan/nnfl_project/blob/master/Clevr_model.ipynb\" target=\"_parent\"><img src=\"https://colab.research.google.com/assets/colab-badge.svg\" alt=\"Open In Colab\"/></a>"
      ]
    },
    {
      "metadata": {
        "colab_type": "code",
        "id": "A16oxj_dkpQm",
        "outputId": "b1512d66-d18e-4c36-c2b2-16c8f2924b02",
        "colab": {
          "base_uri": "https://localhost:8080/",
          "height": 35
        }
      },
      "cell_type": "code",
      "source": [
        "#Run this if you want to acess your files in google d\n",
        "\n",
        "from google.colab import drive\n",
        "drive.mount('/content/drive/')"
      ],
      "execution_count": 0,
      "outputs": [
        {
          "output_type": "stream",
          "text": [
            "Drive already mounted at /content/drive/; to attempt to forcibly remount, call drive.mount(\"/content/drive/\", force_remount=True).\n"
          ],
          "name": "stdout"
        }
      ]
    },
    {
      "metadata": {
        "colab_type": "code",
        "id": "oMVKEyDW84s_",
        "colab": {}
      },
      "cell_type": "code",
      "source": [
        "import json\n",
        "import numpy as np \n",
        "import pandas as pd \n",
        "import os\n",
        "\n",
        "from sklearn.feature_extraction.text import CountVectorizer\n",
        "from keras.preprocessing.text import Tokenizer\n",
        "from keras.preprocessing.sequence import pad_sequences\n",
        "from keras.models import Model\n",
        "from keras.layers import Dense, Embedding, LSTM, Input, Dropout, CuDNNLSTM\n",
        "from sklearn.model_selection import train_test_split\n",
        "from keras.utils.np_utils import to_categorical\n",
        "import re\n",
        "from keras.layers import Embedding\n",
        "\n",
        "from sklearn.preprocessing import LabelEncoder"
      ],
      "execution_count": 0,
      "outputs": []
    },
    {
      "metadata": {
        "colab_type": "code",
        "id": "7cvh43bU84tM",
        "colab": {}
      },
      "cell_type": "code",
      "source": [
        "#Opening the json file \n",
        "file1 = open('/content/drive/My Drive/nnfl_project/Quest_Answers.json', 'r')\n",
        "json_file = json.load(file1)"
      ],
      "execution_count": 0,
      "outputs": []
    },
    {
      "metadata": {
        "colab_type": "code",
        "id": "d1sAABov84tW",
        "colab": {}
      },
      "cell_type": "code",
      "source": [
        "quest = json_file['quest_answers']"
      ],
      "execution_count": 0,
      "outputs": []
    },
    {
      "metadata": {
        "colab_type": "code",
        "id": "Q07r4qdU84th",
        "outputId": "cc8079de-e3ce-4aec-a8af-e771103519ad",
        "colab": {
          "base_uri": "https://localhost:8080/",
          "height": 35
        }
      },
      "cell_type": "code",
      "source": [
        "d = pd.DataFrame(quest)\n",
        "d.head()\n",
        "d.shape"
      ],
      "execution_count": 0,
      "outputs": [
        {
          "output_type": "execute_result",
          "data": {
            "text/plain": [
              "(135020, 3)"
            ]
          },
          "metadata": {
            "tags": []
          },
          "execution_count": 56
        }
      ]
    },
    {
      "metadata": {
        "colab_type": "code",
        "id": "9zsaa4_684tp",
        "colab": {}
      },
      "cell_type": "code",
      "source": [
        "d['Answer'] = d['Answer'].astype('str')\n",
        "data = pd.DataFrame()\n",
        "data['Answer'] = d['Answer'][:135019,]\n",
        "data['Image'] = d['Image'][:135019,]\n",
        "data['Question'] = d['Question'][:135019,]"
      ],
      "execution_count": 0,
      "outputs": []
    },
    {
      "metadata": {
        "colab_type": "code",
        "id": "IzxLzv_j8j5w",
        "colab": {}
      },
      "cell_type": "code",
      "source": [
        ""
      ],
      "execution_count": 0,
      "outputs": []
    },
    {
      "metadata": {
        "colab_type": "code",
        "id": "dC1aHWCBVuHO",
        "outputId": "29480a1c-b2f1-4cb9-d0d1-d831a1ece846",
        "colab": {
          "base_uri": "https://localhost:8080/",
          "height": 35
        }
      },
      "cell_type": "code",
      "source": [
        "#Using label encoder to encode the labels\n",
        "labelencoder = LabelEncoder()\n",
        "labelencoder.fit(data['Answer'])\n",
        "y = labelencoder.transform(data['Answer'])\n",
        "num_classes = len(list(labelencoder.classes_))\n",
        "print(len(y))"
      ],
      "execution_count": 0,
      "outputs": [
        {
          "output_type": "stream",
          "text": [
            "135019\n"
          ],
          "name": "stdout"
        }
      ]
    },
    {
      "metadata": {
        "id": "C5amsI2kb0Rm",
        "colab_type": "code",
        "outputId": "bb708d44-2286-45df-efa2-7f5bc174ade7",
        "colab": {
          "base_uri": "https://localhost:8080/",
          "height": 109
        }
      },
      "cell_type": "code",
      "source": [
        "print(y[0:100])"
      ],
      "execution_count": 0,
      "outputs": [
        {
          "output_type": "stream",
          "text": [
            "[ 0  9 18 15 14 19  9  9 10  9 10  9  9  9  9  9 10  9  9  0  1  2  1  9\n",
            "  9 10 10  0  0  1  0 20 22 15 23 19 15 18 12 24 23 17 22  2  9 23 14 22\n",
            " 15  0 23 21 19 15  3  2  1  2  1  1  1  1  4  9 23 12 22 13 10  9  9 10\n",
            "  9  9  9  9 10  9 10  9  9  9  9  9  0  9 15 22 14 23  1 10 23 13 12 10\n",
            "  9 10  9 10]\n"
          ],
          "name": "stdout"
        }
      ]
    },
    {
      "metadata": {
        "id": "22dFOfVucaRk",
        "colab_type": "code",
        "outputId": "ffe012c6-3501-42f2-e0fc-e28f08c804f0",
        "colab": {
          "base_uri": "https://localhost:8080/",
          "height": 55
        }
      },
      "cell_type": "code",
      "source": [
        "#Mapping all thelabel numbers to thier labels\n",
        "print(dict(zip(labelencoder.classes_,labelencoder.transform(labelencoder.classes_))))"
      ],
      "execution_count": 0,
      "outputs": [
        {
          "output_type": "stream",
          "text": [
            "{'0': 0, '1': 1, '2': 2, '3': 3, '4': 4, '5': 5, '6': 6, '7': 7, '8': 8, 'False': 9, 'True': 10, 'blue': 11, 'brown': 12, 'cube': 13, 'cyan': 14, 'cylinder': 15, 'gray': 16, 'green': 17, 'large': 18, 'metal': 19, 'purple': 20, 'red': 21, 'rubber': 22, 'small': 23, 'sphere': 24, 'yellow': 25}\n"
          ],
          "name": "stdout"
        }
      ]
    },
    {
      "metadata": {
        "colab_type": "code",
        "id": "YeVdVAIbR3sp",
        "colab": {}
      },
      "cell_type": "code",
      "source": [
        "\n",
        "#Reading the images from the images folder and resizing them to 64X64 array.\n",
        "path = \"/content/drive/My Drive/nnfl_project/images/\"\n",
        "array_of_images = []\n",
        "labels = []\n",
        "dic = {}\n",
        "from os import listdir\n",
        "import cv2\n",
        "size = 64,64\n",
        "def addImages(images,directory):\n",
        "    try:\n",
        "        for i in range(10000):\n",
        "            progress=(i/10000)*100\n",
        "            print(progress,end=\"\\r\")\n",
        "            img = cv2.imread(directory + images[i])\n",
        "            array_of_images.append(img)\n",
        "            dic[images[i]] = i\n",
        "    except:\n",
        "        print(cv2.error)\n",
        "    \n",
        "def transform(img_data):\n",
        "    X = []\n",
        "    for img in img_data:\n",
        "        img = cv2.resize(img,size)\n",
        "        X.append(img)\n",
        "    return np.array(X)"
      ],
      "execution_count": 0,
      "outputs": []
    },
    {
      "metadata": {
        "id": "bX5FnwAW_6gK",
        "colab_type": "code",
        "colab": {}
      },
      "cell_type": "code",
      "source": [
        "#Chaning the directory to where the files are present\n",
        "os.chdir('/content/drive/My Drive/nnfl_project/')"
      ],
      "execution_count": 0,
      "outputs": []
    },
    {
      "metadata": {
        "id": "586l_czwUpq6",
        "colab_type": "code",
        "colab": {}
      },
      "cell_type": "code",
      "source": [
        "X_img=[]"
      ],
      "execution_count": 0,
      "outputs": []
    },
    {
      "metadata": {
        "colab_type": "code",
        "id": "7dTLe5JMkVFq",
        "outputId": "cab9cbdc-90ec-4f6c-c253-468ce2126ea1",
        "colab": {
          "base_uri": "https://localhost:8080/",
          "height": 17
        }
      },
      "cell_type": "code",
      "source": [
        "addImages(sorted(listdir(path)),path)\n",
        "X_img = transform(array_of_images)    \n",
        "    "
      ],
      "execution_count": 0,
      "outputs": [
        {
          "output_type": "stream",
          "text": [
            ""
          ],
          "name": "stdout"
        }
      ]
    },
    {
      "metadata": {
        "id": "t88xQmJyCxLl",
        "colab_type": "code",
        "outputId": "f37d7e87-23ed-4664-af55-8ecb4691029e",
        "colab": {
          "base_uri": "https://localhost:8080/",
          "height": 35
        }
      },
      "cell_type": "code",
      "source": [
        "X_img.shape"
      ],
      "execution_count": 0,
      "outputs": [
        {
          "output_type": "execute_result",
          "data": {
            "text/plain": [
              "(10000, 64, 64, 3)"
            ]
          },
          "metadata": {
            "tags": []
          },
          "execution_count": 33
        }
      ]
    },
    {
      "metadata": {
        "id": "KyTojBLpB5UQ",
        "colab_type": "code",
        "colab": {}
      },
      "cell_type": "code",
      "source": [
        "x1=np.array(array_of_images)\n",
        "np.save('img_arr.npy',x1)"
      ],
      "execution_count": 0,
      "outputs": []
    },
    {
      "metadata": {
        "id": "A8PJd8qEC0fA",
        "colab_type": "code",
        "colab": {}
      },
      "cell_type": "code",
      "source": [
        "np.save('X_img.npy',X_img)"
      ],
      "execution_count": 0,
      "outputs": []
    },
    {
      "metadata": {
        "colab_type": "code",
        "id": "U5lPZVeD84t0",
        "colab": {}
      },
      "cell_type": "code",
      "source": [
        "num_words = 1000\n",
        "tokenizer = Tokenizer(num_words=num_words, filters='!\"#$%&()*+,-./:;<=>?@[\\\\]^_`{|}~\\t\\n',\n",
        "                                   lower=True,split=' ')\n",
        "tokenizer.fit_on_texts(data['Question'].values)\n",
        "X = tokenizer.texts_to_sequences(data['Question'].values)\n",
        "word_index = tokenizer.word_index\n",
        "\n",
        "max_length_of_text = 100\n",
        "X = pad_sequences(X, maxlen=max_length_of_text)"
      ],
      "execution_count": 0,
      "outputs": []
    },
    {
      "metadata": {
        "colab_type": "code",
        "id": "_j7QGSiV84t8",
        "colab": {}
      },
      "cell_type": "code",
      "source": [
        "import pickle\n",
        "file=open(\"tokenizer.pkl\",\"wb\")\n",
        "pickle.dump(tokenizer,file)\n",
        "file.close()"
      ],
      "execution_count": 0,
      "outputs": []
    },
    {
      "metadata": {
        "id": "PxjoujmDBbiQ",
        "colab_type": "code",
        "colab": {}
      },
      "cell_type": "code",
      "source": [
        ""
      ],
      "execution_count": 0,
      "outputs": []
    },
    {
      "metadata": {
        "colab_type": "code",
        "id": "OfjZaaSY84uF",
        "outputId": "a446f99f-2dee-4957-e41b-bcfe65f7388c",
        "colab": {
          "base_uri": "https://localhost:8080/",
          "height": 35
        }
      },
      "cell_type": "code",
      "source": [
        "#uncomment this if you want to use word2vec for your LSTM model\n",
        "\n",
        "'''#Creating embeddings\n",
        "embeddings_index = {}\n",
        "glove_txt = open('/content/drive/My Drive/nnfl_project/glove.6B.50d.txt')\n",
        "for line in glove_txt:\n",
        "    values = line.split()\n",
        "    word = values[0]\n",
        "    coefs = np.asarray(values[1:], dtype='float32')\n",
        "    embeddings_index[word] = coefs\n",
        "glove_txt.close()\n",
        "\n",
        "print('Found %s word vectors.' % len(embeddings_index))\n",
        "max_length_of_text = 100'''"
      ],
      "execution_count": 0,
      "outputs": [
        {
          "output_type": "stream",
          "text": [
            "Found 400000 word vectors.\n"
          ],
          "name": "stdout"
        }
      ]
    },
    {
      "metadata": {
        "colab_type": "code",
        "id": "bpWMA1VA84uU",
        "colab": {}
      },
      "cell_type": "code",
      "source": [
        "##uncomment this if you want to use word2vec for your LSTM model\n",
        "'''EMBEDDING_DIM = 50\n",
        "embedding_matrix = np.zeros((len(word_index) + 1, EMBEDDING_DIM))\n",
        "for word, i in word_index.items():\n",
        "    embedding_vector = embeddings_index.get(word)\n",
        "    if embedding_vector is not None:\n",
        "        # words not found in embedding index will be all-zeros.\n",
        "        embedding_matrix[i] = embedding_vector'''"
      ],
      "execution_count": 0,
      "outputs": []
    },
    {
      "metadata": {
        "id": "m97dNurCa3KZ",
        "colab_type": "code",
        "colab": {}
      },
      "cell_type": "code",
      "source": [
        "#normalizing the image array\n",
        "X_norm = np.array(X_img, np.float32) / 255."
      ],
      "execution_count": 0,
      "outputs": []
    },
    {
      "metadata": {
        "id": "eZiAKL5pDtGZ",
        "colab_type": "code",
        "colab": {}
      },
      "cell_type": "code",
      "source": [
        "mean_img = X_norm.mean(axis=0)\n",
        "\n",
        "std_dev = X_norm.std(axis = 0)\n",
        "\n"
      ],
      "execution_count": 0,
      "outputs": []
    },
    {
      "metadata": {
        "id": "PAjY2Z_KD1Uu",
        "colab_type": "code",
        "colab": {}
      },
      "cell_type": "code",
      "source": [
        "X_norm_new = (X_norm - mean_img)/ std_dev"
      ],
      "execution_count": 0,
      "outputs": []
    },
    {
      "metadata": {
        "id": "cKaN0DfHE3lh",
        "colab_type": "code",
        "colab": {}
      },
      "cell_type": "code",
      "source": [
        "np.save('X_norm_new.npy',X_norm_new)"
      ],
      "execution_count": 0,
      "outputs": []
    },
    {
      "metadata": {
        "id": "uECplBajfwzA",
        "colab_type": "code",
        "colab": {}
      },
      "cell_type": "code",
      "source": [
        "#run this cell if you want to load your save numpy array\n",
        "X_norm_new=np.load('X_norm_new.npy')"
      ],
      "execution_count": 0,
      "outputs": []
    },
    {
      "metadata": {
        "id": "CjQ7HxxWE9_C",
        "colab_type": "code",
        "outputId": "479c15dd-5408-49fc-de42-d8f75699c9a4",
        "colab": {
          "base_uri": "https://localhost:8080/",
          "height": 35
        }
      },
      "cell_type": "code",
      "source": [
        "X_norm_new.shape"
      ],
      "execution_count": 0,
      "outputs": [
        {
          "output_type": "execute_result",
          "data": {
            "text/plain": [
              "(10000, 64, 64, 3)"
            ]
          },
          "metadata": {
            "tags": []
          },
          "execution_count": 26
        }
      ]
    },
    {
      "metadata": {
        "colab_type": "code",
        "id": "dzv2z9Y184ud",
        "colab": {}
      },
      "cell_type": "code",
      "source": [
        "from keras.layers import Embedding\n",
        "\n",
        "embedding_layer = Embedding(len(word_index) + 1,\n",
        "                            EMBEDDING_DIM,\n",
        "                            weights=[embedding_matrix],\n",
        "                            input_length=max_length_of_text,\n",
        "                            trainable=False)"
      ],
      "execution_count": 0,
      "outputs": []
    },
    {
      "metadata": {
        "colab_type": "code",
        "id": "V6SOUhTe84uo",
        "colab": {}
      },
      "cell_type": "code",
      "source": [
        "question_input = Input((max_length_of_text, ))\n",
        "x2 = embedding_layer(question_input)\n",
        "x2 = LSTM(128,return_sequences = True)(x2)\n",
        "x2 = Dropout(0.4)(x2)\n",
        "x2 = LSTM(128,return_sequences = True)(x2)\n",
        "x2 = Dropout(0.4)(x2)\n",
        "x2 = LSTM(128, return_sequences=False)(x2)\n",
        "x2 = Dropout(0.4)(x2)\n"
      ],
      "execution_count": 0,
      "outputs": []
    },
    {
      "metadata": {
        "colab_type": "code",
        "id": "MdurG5MJkVHA",
        "colab": {}
      },
      "cell_type": "code",
      "source": [
        "from keras.models import Sequential,load_model\n",
        "from keras.layers.core import Flatten, Dense, Dropout\n",
        "from keras.layers import Activation, Dropout, Flatten, Dense, Conv2D, MaxPooling2D, concatenate,BatchNormalization\n",
        "from keras.callbacks import EarlyStopping, ModelCheckpoint"
      ],
      "execution_count": 0,
      "outputs": []
    },
    {
      "metadata": {
        "colab_type": "code",
        "id": "ZU1kuDGVkVHJ",
        "colab": {}
      },
      "cell_type": "code",
      "source": [
        "'''model = Sequential()\n",
        "model.add(Conv2D(32, (3, 3)))\n",
        "model.add(Activation('relu'))\n",
        "model.add(MaxPooling2D(pool_size=(2, 2)))\n",
        "\n",
        "model.add(Conv2D(32, (3, 3)))\n",
        "model.add(Activation('relu'))\n",
        "model.add(MaxPooling2D(pool_size=(2, 2)))\n",
        "\n",
        "model.add(Conv2D(64, (3, 3)))\n",
        "model.add(Activation('relu'))\n",
        "model.add(MaxPooling2D(pool_size=(2, 2)))\n",
        "\n",
        "# the model so far outputs 3D feature maps (height, width, features)\n",
        "\n",
        "model.add(Flatten())  # this converts our 3D feature maps to 1D feature vectors\n",
        "model.add(Dense(64))\n",
        "model.add(Activation('relu'))\n",
        "model.add(Dropout(0.5))\n",
        "model.add(Dense(1))\n",
        "model.add(Activation('sigmoid'))\n",
        "# COMPILE\n",
        "image_input = Input(shape=(64,64, 3))\n",
        "encoded_image = model(image_input)'''"
      ],
      "execution_count": 0,
      "outputs": []
    },
    {
      "metadata": {
        "id": "dHY4iKMYZECS",
        "colab_type": "code",
        "colab": {}
      },
      "cell_type": "code",
      "source": [
        "#CNN model\n",
        "model = Sequential()\n",
        "#model.add(BatchNormalization(input_shape=Xtrain.shape[1:]))\n",
        "model.add(Conv2D(32, kernel_size=(3, 3), activation= 'relu',padding= 'same'))\n",
        "model.add(Conv2D(32, kernel_size=(3, 3), activation= 'relu'))\n",
        "model.add(MaxPooling2D(pool_size=(3,3)))\n",
        "model.add(Dropout(0.3))\n",
        "\n",
        "model.add(Conv2D(64, kernel_size=(3, 3), activation= 'relu', padding='same'))\n",
        "model.add(Conv2D(64, kernel_size=(3, 3), activation= 'relu'))\n",
        "model.add(MaxPooling2D(pool_size=(3,3)))\n",
        "model.add(Dropout(0.25))\n",
        "\n",
        "model.add(Conv2D(128, kernel_size=(3, 3), activation= 'relu', padding='same'))\n",
        "model.add(Conv2D(128, kernel_size=(3, 3), activation= 'relu'))\n",
        "model.add(MaxPooling2D(pool_size=(3,3)))\n",
        "model.add(Dropout(0.25))\n",
        "\n",
        "\n",
        "\n",
        "model.add(Flatten())  \n",
        "model.add(Dense(512))\n",
        "model.add(Activation('relu'))\n",
        "model.add(Dropout(0.5))\n",
        "model.add(Dense(512))\n",
        "model.add(Activation('relu'))\n",
        "model.add(Dropout(0.5))\n",
        "model.add(Dense(1))\n",
        "model.add(Activation('sigmoid'))\n",
        "\n",
        "image_input = Input(shape=(64,64, 3))\n",
        "encoded_image = model(image_input)"
      ],
      "execution_count": 0,
      "outputs": []
    },
    {
      "metadata": {
        "id": "t6OUlbPDgNpl",
        "colab_type": "code",
        "outputId": "e64ea3e9-6339-4fa6-fb33-30091d0deeaa",
        "colab": {
          "base_uri": "https://localhost:8080/",
          "height": 917
        }
      },
      "cell_type": "code",
      "source": [
        "model.summary()"
      ],
      "execution_count": 0,
      "outputs": [
        {
          "output_type": "stream",
          "text": [
            "_________________________________________________________________\n",
            "Layer (type)                 Output Shape              Param #   \n",
            "=================================================================\n",
            "conv2d_7 (Conv2D)            (None, 64, 64, 32)        896       \n",
            "_________________________________________________________________\n",
            "conv2d_8 (Conv2D)            (None, 62, 62, 32)        9248      \n",
            "_________________________________________________________________\n",
            "max_pooling2d_4 (MaxPooling2 (None, 20, 20, 32)        0         \n",
            "_________________________________________________________________\n",
            "dropout_12 (Dropout)         (None, 20, 20, 32)        0         \n",
            "_________________________________________________________________\n",
            "conv2d_9 (Conv2D)            (None, 20, 20, 64)        18496     \n",
            "_________________________________________________________________\n",
            "conv2d_10 (Conv2D)           (None, 18, 18, 64)        36928     \n",
            "_________________________________________________________________\n",
            "max_pooling2d_5 (MaxPooling2 (None, 6, 6, 64)          0         \n",
            "_________________________________________________________________\n",
            "dropout_13 (Dropout)         (None, 6, 6, 64)          0         \n",
            "_________________________________________________________________\n",
            "conv2d_11 (Conv2D)           (None, 6, 6, 128)         73856     \n",
            "_________________________________________________________________\n",
            "conv2d_12 (Conv2D)           (None, 4, 4, 128)         147584    \n",
            "_________________________________________________________________\n",
            "max_pooling2d_6 (MaxPooling2 (None, 1, 1, 128)         0         \n",
            "_________________________________________________________________\n",
            "dropout_14 (Dropout)         (None, 1, 1, 128)         0         \n",
            "_________________________________________________________________\n",
            "flatten_2 (Flatten)          (None, 128)               0         \n",
            "_________________________________________________________________\n",
            "dense_6 (Dense)              (None, 512)               66048     \n",
            "_________________________________________________________________\n",
            "activation_3 (Activation)    (None, 512)               0         \n",
            "_________________________________________________________________\n",
            "dropout_15 (Dropout)         (None, 512)               0         \n",
            "_________________________________________________________________\n",
            "dense_7 (Dense)              (None, 512)               262656    \n",
            "_________________________________________________________________\n",
            "activation_4 (Activation)    (None, 512)               0         \n",
            "_________________________________________________________________\n",
            "dropout_16 (Dropout)         (None, 512)               0         \n",
            "_________________________________________________________________\n",
            "dense_8 (Dense)              (None, 1)                 513       \n",
            "_________________________________________________________________\n",
            "activation_5 (Activation)    (None, 1)                 0         \n",
            "=================================================================\n",
            "Total params: 616,225\n",
            "Trainable params: 616,225\n",
            "Non-trainable params: 0\n",
            "_________________________________________________________________\n"
          ],
          "name": "stdout"
        }
      ]
    },
    {
      "metadata": {
        "colab_type": "code",
        "id": "RfR0Ith7kVHL",
        "colab": {}
      },
      "cell_type": "code",
      "source": [
        "#Merging your cnn and lstm model\n",
        "merged = concatenate([x2, encoded_image])"
      ],
      "execution_count": 0,
      "outputs": []
    },
    {
      "metadata": {
        "colab_type": "code",
        "id": "CIAiaPeSkVHU",
        "colab": {}
      },
      "cell_type": "code",
      "source": [
        "output = Dense(num_classes, activation='sigmoid')(merged)\n",
        "clevr_model = Model(inputs=[question_input,image_input], outputs=output)\n"
      ],
      "execution_count": 0,
      "outputs": []
    },
    {
      "metadata": {
        "colab_type": "code",
        "id": "JWupiKKCkVHd",
        "colab": {}
      },
      "cell_type": "code",
      "source": [
        "clevr_model.compile(loss='sparse_categorical_crossentropy', optimizer='adam', metrics = ['accuracy'])"
      ],
      "execution_count": 0,
      "outputs": []
    },
    {
      "metadata": {
        "id": "KVCb1-gBgoac",
        "colab_type": "code",
        "colab": {}
      },
      "cell_type": "code",
      "source": [
        "early_stops = EarlyStopping(patience=3, monitor='val_acc')\n",
        "checkpointer = ModelCheckpoint(filepath='weights3.best.eda.hdf5', verbose=1, save_best_only=True)"
      ],
      "execution_count": 0,
      "outputs": []
    },
    {
      "metadata": {
        "colab_type": "code",
        "id": "k_XvwXdXkVHj",
        "colab": {}
      },
      "cell_type": "code",
      "source": [
        "#conactinating your inage names and Questions\n",
        "X_merge1 = np.zeros((135019,1))\n",
        "for i in range(len(X_merge1)):\n",
        "    try:\n",
        "      X_merge1[i] = dic[data['Image'][i]+'.jpg']\n",
        "    except:\n",
        "      pass\n",
        "\n",
        "X_final = np.concatenate((X,X_merge1),axis = 1)\n"
      ],
      "execution_count": 0,
      "outputs": []
    },
    {
      "metadata": {
        "colab_type": "code",
        "id": "PQgd8EMbkVHn",
        "outputId": "93475e6b-5337-4860-d890-9f27e68fa17e",
        "colab": {
          "base_uri": "https://localhost:8080/",
          "height": 54
        }
      },
      "cell_type": "code",
      "source": [
        "X_train, X_test, y_train, y_test = train_test_split(X_final,y, test_size = 0.2, random_state = 47)\n",
        "print(X_train.shape,y_train.shape)\n",
        "print(X_test.shape,y_test.shape)"
      ],
      "execution_count": 0,
      "outputs": [
        {
          "output_type": "stream",
          "text": [
            "(108015, 101) (108015,)\n",
            "(27004, 101) (27004,)\n"
          ],
          "name": "stdout"
        }
      ]
    },
    {
      "metadata": {
        "id": "kJKcQfQaF5bE",
        "colab_type": "code",
        "colab": {}
      },
      "cell_type": "code",
      "source": [
        "X_image_train=X_train[:,100].astype(int)"
      ],
      "execution_count": 0,
      "outputs": []
    },
    {
      "metadata": {
        "colab_type": "code",
        "id": "4vVy0S6_kVH2",
        "colab": {}
      },
      "cell_type": "code",
      "source": [
        "X_norm_new[X_image_train[0]]"
      ],
      "execution_count": 0,
      "outputs": []
    },
    {
      "metadata": {
        "colab_type": "code",
        "id": "r_aivxNrkVH-",
        "colab": {}
      },
      "cell_type": "code",
      "source": [
        "LSTM = X_train[:,0:100]\n",
        "X_image_test = X_test[:,100].astype(int)"
      ],
      "execution_count": 0,
      "outputs": []
    },
    {
      "metadata": {
        "id": "ESzP7Pymjf26",
        "colab_type": "code",
        "colab": {}
      },
      "cell_type": "code",
      "source": [
        "LSTM_test = X_test[:,0:100]\n",
        "Xvalid=[LSTM_test, X_norm_new[X_image_test] ]"
      ],
      "execution_count": 0,
      "outputs": []
    },
    {
      "metadata": {
        "colab_type": "code",
        "id": "63psj98akVIH",
        "colab": {}
      },
      "cell_type": "code",
      "source": [
        "clevr_model.fit(x = [LSTM,X_norm_new[X_image_train]],y = y_train,epochs = 20,validation_data=(Xvalid,y_test), batch_size = 512,callbacks=[checkpointer], verbose=1)"
      ],
      "execution_count": 0,
      "outputs": []
    },
    {
      "metadata": {
        "colab_type": "code",
        "id": "ofaPmc2-kVIM",
        "colab": {}
      },
      "cell_type": "code",
      "source": [
        "y_pred = clevr_model.predict(x = [LSTM_test, X_norm_new[X_image_test] ], batch_size = 32)"
      ],
      "execution_count": 0,
      "outputs": []
    },
    {
      "metadata": {
        "colab_type": "code",
        "id": "OUWBWyDZMTHJ",
        "colab": {}
      },
      "cell_type": "code",
      "source": [
        "clevr_model.save('clevr3.hdf5')"
      ],
      "execution_count": 0,
      "outputs": []
    },
    {
      "metadata": {
        "id": "P_GQlCyNxInk",
        "colab_type": "code",
        "colab": {}
      },
      "cell_type": "code",
      "source": [
        "model = load_model('clevr3.hdf5')"
      ],
      "execution_count": 0,
      "outputs": []
    },
    {
      "metadata": {
        "id": "domcqs2T5QDg",
        "colab_type": "code",
        "colab": {}
      },
      "cell_type": "code",
      "source": [
        "#clevr_model.fit(x = [LSTM,X_img[X_image]],y = y_train,epochs = 30,validation_data=(Xvalid,y_test), batch_size = 256,callbacks=[checkpointer], verbose=1)"
      ],
      "execution_count": 0,
      "outputs": []
    },
    {
      "metadata": {
        "colab_type": "code",
        "id": "FFNdqcAmOkGO",
        "outputId": "365e6dba-3231-4089-8177-61786638fd5d",
        "colab": {
          "base_uri": "https://localhost:8080/",
          "height": 34
        }
      },
      "cell_type": "code",
      "source": [
        "len(y_pred)"
      ],
      "execution_count": 0,
      "outputs": [
        {
          "output_type": "execute_result",
          "data": {
            "text/plain": [
              "6000"
            ]
          },
          "metadata": {
            "tags": []
          },
          "execution_count": 37
        }
      ]
    },
    {
      "metadata": {
        "colab_type": "code",
        "id": "LnKy-QFbe18y",
        "colab": {}
      },
      "cell_type": "code",
      "source": [
        "for i in range(5):\n",
        "  y_output = y_pred[i]\n",
        "  for label in y_output.argsort()[::-1][:5]:\n",
        "      print(str(round(y_output[label]*100,2)).zfill(5), \"% \", labelencoder.inverse_transform(label))"
      ],
      "execution_count": 0,
      "outputs": []
    },
    {
      "metadata": {
        "colab_type": "code",
        "id": "vu6SPRWlfZ5u",
        "colab": {}
      },
      "cell_type": "code",
      "source": [
        "#predcting the answers and saving them in csv format\n",
        "predict_ques = model.predict(x = [LSTM_test, X_norm_new[X_image_test] ], batch_size = 256)\n",
        "\n",
        "\n",
        "\n",
        "\n",
        "\n",
        "predict_ques = np.argmax(predict_ques, axis = 1)\n",
        "\n",
        "labels = {\n",
        "    0: '0',\n",
        "    1: '1',\n",
        "    2: '2',\n",
        "    3: '3',\n",
        "    4: '4',\n",
        "    5: '5',\n",
        "    6: '6',\n",
        "    7: '7',\n",
        "    8: '8',\n",
        "    9: 'false',\n",
        "    10: 'true',\n",
        "    11: 'blue',\n",
        "    12: 'brown',\n",
        "    13: 'cube',\n",
        "    14: 'cyan',\n",
        "    15: 'cylinder',\n",
        "    16: 'gray',\n",
        "    17: 'green',\n",
        "    18: 'large',\n",
        "    19: 'metal',\n",
        "    20: 'purple',\n",
        "    21: 'red',\n",
        "    22: 'rubber',\n",
        "    23: 'small',\n",
        "    24: 'sphere',\n",
        "    25: 'yellow'\n",
        "}\n",
        "\n",
        "predict_ques = [labels[i] for i in predict_ques]\n",
        "\n",
        "\n",
        "# In[25]:\n",
        "\n",
        "\n",
        "new_df = pd.DataFrame({\"Index\": [i for i in range(len(predict_ques))], \"Answer\": predict_ques})\n",
        "# new_df = pd.DataFrame({\"Index\": indices, \"Answer\": pred})\n",
        "new_df.to_csv(\"solution.csv\", index=False)\n"
      ],
      "execution_count": 0,
      "outputs": []
    },
    {
      "metadata": {
        "colab_type": "code",
        "id": "q0PE_YjFfbXq",
        "colab": {}
      },
      "cell_type": "code",
      "source": [
        ""
      ],
      "execution_count": 0,
      "outputs": []
    }
  ]
}